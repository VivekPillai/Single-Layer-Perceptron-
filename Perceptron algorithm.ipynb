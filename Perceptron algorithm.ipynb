{
 "cells": [
  {
   "cell_type": "code",
   "execution_count": 88,
   "metadata": {},
   "outputs": [],
   "source": [
    "import numpy as np\n",
    "\n",
    "class Perceptron:\n",
    "    def __init__(self, input_size, lr = 1, epochs = 10):         #constructor to initialize with number of attributes\n",
    "        self.W = np.zeros(input_size + 1)   # creating weight vector, adding 1 for bias \n",
    "        self.lr = lr\n",
    "        self.epochs = 10\n",
    "        \n",
    "        \n",
    "    def activation_fn(self, x):\n",
    "        return 1 if x >= 0 else 0\n",
    "    \n",
    "\n",
    "    def predict(self, x):\n",
    "        x = np.insert(x,0,1)\n",
    "        z = self.W.T.dot(x)\n",
    "        a = activation_fn(self,z)\n",
    "        return a\n",
    "    \n",
    "\n",
    "    def fit(self, X, actual):\n",
    "        for _ in range(self.epochs):\n",
    "            for i in range(d.shape[0]):\n",
    "                pred = self.predict(X[i])\n",
    "                error = actual[i] - pred\n",
    "                self.W = self.W + self.lr*error*np.insert(X[i],0,1)  #Change weigths based on error in proportion \n",
    "                                                                     #to the input\n",
    "                \n",
    "                \n",
    "                \n",
    "                "
   ]
  },
  {
   "cell_type": "code",
   "execution_count": 89,
   "metadata": {},
   "outputs": [
    {
     "name": "stdout",
     "output_type": "stream",
     "text": [
      "[-3.  2.  1.]\n"
     ]
    }
   ],
   "source": [
    "if __name__ == '__main__':\n",
    "    X = np.array([\n",
    "        [0, 0],\n",
    "        [0, 1],\n",
    "        [1, 0],\n",
    "        [1, 1]\n",
    "    ])\n",
    "    \n",
    "    d = np.array([0,1,1,0])\n",
    "    \n",
    "    perceptron = Perceptron(input_size = 2)\n",
    "    perceptron.fit(X,d)\n",
    "    print(perceptron.W)\n",
    "\n"
   ]
  },
  {
   "cell_type": "code",
   "execution_count": null,
   "metadata": {},
   "outputs": [],
   "source": [
    "# Verify weight vectors\n",
    "# When both inputs are 0\n",
    "# -3 + 2*0 + 1*0 = -3  (which is less than zero hence output = 0)\n",
    "\n",
    "# When both inputs are 1\n",
    "# -3 + 2*1 + 1*1 = 0 ( Hence output = 1)"
   ]
  },
  {
   "cell_type": "code",
   "execution_count": 81,
   "metadata": {},
   "outputs": [
    {
     "name": "stdout",
     "output_type": "stream",
     "text": [
      "[-1.  1.  1.]\n"
     ]
    }
   ],
   "source": [
    "## Or Gate\n",
    "\n",
    "if __name__ == '__main__':\n",
    "    X = np.array([\n",
    "        [0, 0],\n",
    "        [0, 1],\n",
    "        [1, 0],\n",
    "        [1, 1]\n",
    "    ])\n",
    "    \n",
    "    d = np.array([0,1,1,1])\n",
    "    \n",
    "    perceptron_OR = Perceptron(input_size = 2)\n",
    "    perceptron_OR.fit(X,d)\n",
    "    print(perceptron_OR.W)"
   ]
  },
  {
   "cell_type": "code",
   "execution_count": null,
   "metadata": {},
   "outputs": [],
   "source": []
  }
 ],
 "metadata": {
  "kernelspec": {
   "display_name": "TensorFlow-GPU",
   "language": "python",
   "name": "tf-gpu"
  },
  "language_info": {
   "codemirror_mode": {
    "name": "ipython",
    "version": 3
   },
   "file_extension": ".py",
   "mimetype": "text/x-python",
   "name": "python",
   "nbconvert_exporter": "python",
   "pygments_lexer": "ipython3",
   "version": "3.6.6"
  }
 },
 "nbformat": 4,
 "nbformat_minor": 2
}
